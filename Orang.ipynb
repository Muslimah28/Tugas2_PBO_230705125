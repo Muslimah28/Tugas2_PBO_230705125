{
  "nbformat": 4,
  "nbformat_minor": 0,
  "metadata": {
    "colab": {
      "provenance": [],
      "toc_visible": true,
      "authorship_tag": "ABX9TyNvskUUgiSGiLLEJIEYcuqF",
      "include_colab_link": true
    },
    "kernelspec": {
      "name": "python3",
      "display_name": "Python 3"
    },
    "language_info": {
      "name": "python"
    }
  },
  "cells": [
    {
      "cell_type": "markdown",
      "metadata": {
        "id": "view-in-github",
        "colab_type": "text"
      },
      "source": [
        "<a href=\"https://colab.research.google.com/github/Muslimah28/Tugas2_PBO_230705125/blob/main/Orang.ipynb\" target=\"_parent\"><img src=\"https://colab.research.google.com/assets/colab-badge.svg\" alt=\"Open In Colab\"/></a>"
      ]
    },
    {
      "cell_type": "code",
      "execution_count": 18,
      "metadata": {
        "colab": {
          "base_uri": "https://localhost:8080/"
        },
        "id": "W3szuzJkomIF",
        "outputId": "f0be9f98-b7a7-441d-891a-0fa8c2cb8f74"
      },
      "outputs": [
        {
          "output_type": "stream",
          "name": "stdout",
          "text": [
            "Hallo, nama saya Budi dan saya berumur 25 tahun.\n"
          ]
        }
      ],
      "source": [
        "# Kelas Orang\n",
        "class Orang:\n",
        "    def __init__(self, nama, umur):\n",
        "        self.nama = nama\n",
        "        self.umur = umur\n",
        "\n",
        "    def perkenalan(self):\n",
        "        print(f\"Hallo, nama saya {self.nama} dan saya berumur {self.umur} tahun.\")\n",
        "\n",
        "# Objek Orang\n",
        "orang1 = Orang(\"Budi\", 25)\n",
        "\n",
        "# Memanggil metode\n",
        "orang1.perkenalan()\n",
        "\n",
        "\n"
      ]
    }
  ]
}