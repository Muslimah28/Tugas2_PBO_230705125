{
  "nbformat": 4,
  "nbformat_minor": 0,
  "metadata": {
    "colab": {
      "provenance": [],
      "toc_visible": true,
      "authorship_tag": "ABX9TyMZ5Qi6pQzjJA7W5tkpHfI4",
      "include_colab_link": true
    },
    "kernelspec": {
      "name": "python3",
      "display_name": "Python 3"
    },
    "language_info": {
      "name": "python"
    }
  },
  "cells": [
    {
      "cell_type": "markdown",
      "metadata": {
        "id": "view-in-github",
        "colab_type": "text"
      },
      "source": [
        "<a href=\"https://colab.research.google.com/github/Muslimah28/Tugas2_PBO_230705125/blob/main/Kabupaten.ipynb\" target=\"_parent\"><img src=\"https://colab.research.google.com/assets/colab-badge.svg\" alt=\"Open In Colab\"/></a>"
      ]
    },
    {
      "cell_type": "code",
      "execution_count": 17,
      "metadata": {
        "colab": {
          "base_uri": "https://localhost:8080/"
        },
        "id": "W3szuzJkomIF",
        "outputId": "ab9f6bf6-8be7-4761-8e55-768ddbc2c4a4"
      },
      "outputs": [
        {
          "output_type": "stream",
          "name": "stdout",
          "text": [
            "Nama Kabupaten: Banda Aceh, Provinsi: ACEH, Jumlah Kecamatan: 17\n"
          ]
        }
      ],
      "source": [
        "# Kelas Kabupaten\n",
        "class Kabupaten:\n",
        "    def __init__(self, nama, provinsi, jumlah_kecamatan):\n",
        "        self.nama = nama\n",
        "        self.provinsi = provinsi\n",
        "        self.jumlah_kecamatan = jumlah_kecamatan\n",
        "\n",
        "    def tampilkanInfo(self):\n",
        "        print(f\"Nama Kabupaten: {self.nama}, Provinsi: {self.provinsi}, Jumlah Kecamatan: {self.jumlah_kecamatan}\")\n",
        "\n",
        "# Objek\n",
        "kabupaten1 = Kabupaten(\"Banda Aceh\", \"ACEH\", 17)\n",
        "kabupaten1.tampilkanInfo()\n",
        "\n",
        "\n",
        "\n"
      ]
    }
  ]
}