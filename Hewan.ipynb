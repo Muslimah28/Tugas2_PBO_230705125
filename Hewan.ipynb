{
  "nbformat": 4,
  "nbformat_minor": 0,
  "metadata": {
    "colab": {
      "provenance": [],
      "toc_visible": true,
      "authorship_tag": "ABX9TyNMRLe068LlZ6TXKr4n2vSd",
      "include_colab_link": true
    },
    "kernelspec": {
      "name": "python3",
      "display_name": "Python 3"
    },
    "language_info": {
      "name": "python"
    }
  },
  "cells": [
    {
      "cell_type": "markdown",
      "metadata": {
        "id": "view-in-github",
        "colab_type": "text"
      },
      "source": [
        "<a href=\"https://colab.research.google.com/github/Muslimah28/Tugas2_PBO_230705125/blob/main/Hewan.ipynb\" target=\"_parent\"><img src=\"https://colab.research.google.com/assets/colab-badge.svg\" alt=\"Open In Colab\"/></a>"
      ]
    },
    {
      "cell_type": "code",
      "execution_count": 19,
      "metadata": {
        "colab": {
          "base_uri": "https://localhost:8080/"
        },
        "id": "W3szuzJkomIF",
        "outputId": "6df96542-2e87-4ded-ab7e-4c72a5295b37"
      },
      "outputs": [
        {
          "output_type": "stream",
          "name": "stdout",
          "text": [
            "Kucing adalah seekor Mamalia dan bisa bersuara!\n"
          ]
        }
      ],
      "source": [
        "# # Kelas Hewan\n",
        "class Hewan:\n",
        "    def __init__(self, nama, jenis):\n",
        "        self.nama = nama\n",
        "        self.jenis = jenis\n",
        "\n",
        "    def bersuara(self):\n",
        "        print(f\"{self.nama} adalah seekor {self.jenis} dan bisa bersuara!\")\n",
        "\n",
        "# Objek Hewan\n",
        "hewan1 = Hewan(\"Kucing\", \"Mamalia\")\n",
        "\n",
        "# Memanggil metode\n",
        "hewan1.bersuara()\n",
        "\n",
        "\n"
      ]
    }
  ]
}