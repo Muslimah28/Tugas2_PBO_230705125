{
  "nbformat": 4,
  "nbformat_minor": 0,
  "metadata": {
    "colab": {
      "provenance": [],
      "toc_visible": true,
      "authorship_tag": "ABX9TyP6hUpVRamf9UhXyuI2xm2k",
      "include_colab_link": true
    },
    "kernelspec": {
      "name": "python3",
      "display_name": "Python 3"
    },
    "language_info": {
      "name": "python"
    }
  },
  "cells": [
    {
      "cell_type": "markdown",
      "metadata": {
        "id": "view-in-github",
        "colab_type": "text"
      },
      "source": [
        "<a href=\"https://colab.research.google.com/github/Muslimah28/Tugas2_PBO_230705125/blob/main/Mahasiswa.ipynb\" target=\"_parent\"><img src=\"https://colab.research.google.com/assets/colab-badge.svg\" alt=\"Open In Colab\"/></a>"
      ]
    },
    {
      "cell_type": "code",
      "execution_count": 9,
      "metadata": {
        "colab": {
          "base_uri": "https://localhost:8080/"
        },
        "id": "W3szuzJkomIF",
        "outputId": "ffba8522-83b6-4953-ee42-2732f776d8ec"
      },
      "outputs": [
        {
          "output_type": "stream",
          "name": "stdout",
          "text": [
            "KRS Mahasiswa: Muslimah, NIM: 230705125, Jurusan: Informatika\n"
          ]
        }
      ],
      "source": [
        "# Kelas Mahasiswa\n",
        "class Mahasiswa:\n",
        "    def __init__(self, nama, nim, jurusan):\n",
        "        self.nama = nama\n",
        "        self.nim = nim\n",
        "        self.jurusan = jurusan\n",
        "\n",
        "    def cetakKRS(self):\n",
        "        print(f\"KRS Mahasiswa: {self.nama}, NIM: {self.nim}, Jurusan: {self.jurusan}\")\n",
        "\n",
        "# Objek\n",
        "mhs = Mahasiswa(\"Muslimah\", \"230705125\", \"Informatika\")\n",
        "mhs.cetakKRS()\n",
        "\n"
      ]
    }
  ]
}