{
  "nbformat": 4,
  "nbformat_minor": 0,
  "metadata": {
    "colab": {
      "provenance": [],
      "toc_visible": true,
      "authorship_tag": "ABX9TyPEPaFjSi0IoGS2gJt71z4c",
      "include_colab_link": true
    },
    "kernelspec": {
      "name": "python3",
      "display_name": "Python 3"
    },
    "language_info": {
      "name": "python"
    }
  },
  "cells": [
    {
      "cell_type": "markdown",
      "metadata": {
        "id": "view-in-github",
        "colab_type": "text"
      },
      "source": [
        "<a href=\"https://colab.research.google.com/github/Muslimah28/Tugas2_PBO_230705125/blob/main/Lingkaran.ipynb\" target=\"_parent\"><img src=\"https://colab.research.google.com/assets/colab-badge.svg\" alt=\"Open In Colab\"/></a>"
      ]
    },
    {
      "cell_type": "code",
      "execution_count": 15,
      "metadata": {
        "colab": {
          "base_uri": "https://localhost:8080/"
        },
        "id": "W3szuzJkomIF",
        "outputId": "f1220abc-f809-4a9e-b2af-8f423a7de4cf"
      },
      "outputs": [
        {
          "output_type": "stream",
          "name": "stdout",
          "text": [
            "Luas Lingkaran: 78.53981633974483, Keliling Lingkaran: 31.41592653589793\n"
          ]
        }
      ],
      "source": [
        "import math\n",
        "\n",
        "# Kelas Lingkaran\n",
        "class Lingkaran:\n",
        "    def __init__(self, jari_jari):\n",
        "        self.jari_jari = jari_jari\n",
        "\n",
        "    def buatLingkaran(self):\n",
        "        luas = math.pi * (self.jari_jari ** 2)\n",
        "        keliling = 2 * math.pi * self.jari_jari\n",
        "        print(f\"Luas Lingkaran: {luas}, Keliling Lingkaran: {keliling}\")\n",
        "\n",
        "# Objek\n",
        "blt = Lingkaran(5)\n",
        "blt.buatLingkaran()\n",
        "\n",
        "\n"
      ]
    }
  ]
}